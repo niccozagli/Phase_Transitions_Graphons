{
 "cells": [
  {
   "cell_type": "code",
   "execution_count": 1,
   "metadata": {},
   "outputs": [],
   "source": [
    "#### LIBRARIES AND FUNCTIONS\n",
    "using DataFrames\n",
    "using CSV"
   ]
  },
  {
   "cell_type": "code",
   "execution_count": 2,
   "metadata": {},
   "outputs": [
    {
     "data": {
      "text/plain": [
       "5"
      ]
     },
     "metadata": {},
     "output_type": "display_data"
    }
   ],
   "source": [
    "# Number of particles\n",
    "N = 1000\n",
    "# Parameters for the E-R network\n",
    "p = 0.5\n",
    "# Parameters for the Small-World (Watts Strogatz) network\n",
    "p_WS = 0.4 ; r = 20\n",
    "# Parameter of the system\n",
    "σ = 0.1 \n",
    "θc = σ^2/p; # This is for the ER network\n",
    "# Parameters for integration\n",
    "tmin = 0.0; tmax = 1000; Δt = 0.01\n",
    "\n",
    "# Iteration Brownian\n",
    "it_brownian = 3\n",
    "it_network = 5"
   ]
  },
  {
   "cell_type": "code",
   "execution_count": 3,
   "metadata": {},
   "outputs": [],
   "source": [
    "start = 0.005; stop = θc; n = 10\n",
    "θ1 = range(start=start,stop=stop,step=(stop-start)/n)\n",
    "start = θc + 0.001; stop = 3*θc; n = 20\n",
    "θ2 = range(start=start,stop=stop,step=(stop-start)/n)\n",
    "\n",
    "θ = vcat( collect(θ1) , collect(θ2) );"
   ]
  },
  {
   "cell_type": "code",
   "execution_count": 4,
   "metadata": {},
   "outputs": [],
   "source": [
    "P = DataFrame(N = N, p = p, sigma = σ, theta = θ, \n",
    "                tmin = tmin, tmax = tmax, Dt = Δt,\n",
    "                it_brownian = it_brownian, it_network = it_network,\n",
    "                p_WS = p_WS, r = r)"
   ]
  },
  {
   "cell_type": "code",
   "execution_count": null,
   "metadata": {},
   "outputs": [],
   "source": [
    "CSV.write(\"parameters.csv\",P)"
   ]
  }
 ],
 "metadata": {
  "kernelspec": {
   "display_name": "Julia 1.10.0",
   "language": "julia",
   "name": "julia-1.10"
  },
  "language_info": {
   "file_extension": ".jl",
   "mimetype": "application/julia",
   "name": "julia",
   "version": "1.10.0"
  }
 },
 "nbformat": 4,
 "nbformat_minor": 2
}
