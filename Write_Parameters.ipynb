{
 "cells": [
  {
   "cell_type": "code",
   "execution_count": 1,
   "metadata": {},
   "outputs": [],
   "source": [
    "#### LIBRARIES AND FUNCTIONS\n",
    "using DataFrames\n",
    "using CSV"
   ]
  },
  {
   "cell_type": "code",
   "execution_count": 2,
   "metadata": {},
   "outputs": [
    {
     "data": {
      "text/plain": [
       "5"
      ]
     },
     "metadata": {},
     "output_type": "display_data"
    }
   ],
   "source": [
    "# Parameters for the network\n",
    "N = 1000\n",
    "p = 0.5\n",
    "# Parameter of the system\n",
    "σ = 0.1 \n",
    "θc = σ^2/p;\n",
    "# Parameters for integration\n",
    "tmin = 0.0; tmax = 1000.0; Δt = 0.01\n",
    "\n",
    "# Iteration Brownian\n",
    "it_brownian = 3\n",
    "it_network = 5"
   ]
  },
  {
   "cell_type": "code",
   "execution_count": 3,
   "metadata": {},
   "outputs": [],
   "source": [
    "start = 0.005; stop = θc; n = 10\n",
    "θ1 = range(start=start,stop=stop,step=(stop-start)/n)\n",
    "start = θc + 0.001; stop = 3*θc; n = 20\n",
    "θ2 = range(start=start,stop=stop,step=(stop-start)/n)\n",
    "\n",
    "θ = vcat( collect(θ1) , collect(θ2) );"
   ]
  },
  {
   "cell_type": "code",
   "execution_count": 4,
   "metadata": {},
   "outputs": [
    {
     "data": {
      "text/html": [
       "<div><div style = \"float: left;\"><span>32×9 DataFrame</span></div><div style = \"float: right;\"><span style = \"font-style: italic;\">7 rows omitted</span></div><div style = \"clear: both;\"></div></div><div class = \"data-frame\" style = \"overflow-x: scroll;\"><table class = \"data-frame\" style = \"margin-bottom: 6px;\"><thead><tr class = \"header\"><th class = \"rowNumber\" style = \"font-weight: bold; text-align: right;\">Row</th><th style = \"text-align: left;\">N</th><th style = \"text-align: left;\">p</th><th style = \"text-align: left;\">sigma</th><th style = \"text-align: left;\">theta</th><th style = \"text-align: left;\">tmin</th><th style = \"text-align: left;\">tmax</th><th style = \"text-align: left;\">Dt</th><th style = \"text-align: left;\">it_brownian</th><th style = \"text-align: left;\">it_network</th></tr><tr class = \"subheader headerLastRow\"><th class = \"rowNumber\" style = \"font-weight: bold; text-align: right;\"></th><th title = \"Int64\" style = \"text-align: left;\">Int64</th><th title = \"Float64\" style = \"text-align: left;\">Float64</th><th title = \"Float64\" style = \"text-align: left;\">Float64</th><th title = \"Float64\" style = \"text-align: left;\">Float64</th><th title = \"Float64\" style = \"text-align: left;\">Float64</th><th title = \"Float64\" style = \"text-align: left;\">Float64</th><th title = \"Float64\" style = \"text-align: left;\">Float64</th><th title = \"Int64\" style = \"text-align: left;\">Int64</th><th title = \"Int64\" style = \"text-align: left;\">Int64</th></tr></thead><tbody><tr><td class = \"rowNumber\" style = \"font-weight: bold; text-align: right;\">1</td><td style = \"text-align: right;\">1000</td><td style = \"text-align: right;\">0.5</td><td style = \"text-align: right;\">0.1</td><td style = \"text-align: right;\">0.005</td><td style = \"text-align: right;\">0.0</td><td style = \"text-align: right;\">1000.0</td><td style = \"text-align: right;\">0.01</td><td style = \"text-align: right;\">3</td><td style = \"text-align: right;\">5</td></tr><tr><td class = \"rowNumber\" style = \"font-weight: bold; text-align: right;\">2</td><td style = \"text-align: right;\">1000</td><td style = \"text-align: right;\">0.5</td><td style = \"text-align: right;\">0.1</td><td style = \"text-align: right;\">0.0065</td><td style = \"text-align: right;\">0.0</td><td style = \"text-align: right;\">1000.0</td><td style = \"text-align: right;\">0.01</td><td style = \"text-align: right;\">3</td><td style = \"text-align: right;\">5</td></tr><tr><td class = \"rowNumber\" style = \"font-weight: bold; text-align: right;\">3</td><td style = \"text-align: right;\">1000</td><td style = \"text-align: right;\">0.5</td><td style = \"text-align: right;\">0.1</td><td style = \"text-align: right;\">0.008</td><td style = \"text-align: right;\">0.0</td><td style = \"text-align: right;\">1000.0</td><td style = \"text-align: right;\">0.01</td><td style = \"text-align: right;\">3</td><td style = \"text-align: right;\">5</td></tr><tr><td class = \"rowNumber\" style = \"font-weight: bold; text-align: right;\">4</td><td style = \"text-align: right;\">1000</td><td style = \"text-align: right;\">0.5</td><td style = \"text-align: right;\">0.1</td><td style = \"text-align: right;\">0.0095</td><td style = \"text-align: right;\">0.0</td><td style = \"text-align: right;\">1000.0</td><td style = \"text-align: right;\">0.01</td><td style = \"text-align: right;\">3</td><td style = \"text-align: right;\">5</td></tr><tr><td class = \"rowNumber\" style = \"font-weight: bold; text-align: right;\">5</td><td style = \"text-align: right;\">1000</td><td style = \"text-align: right;\">0.5</td><td style = \"text-align: right;\">0.1</td><td style = \"text-align: right;\">0.011</td><td style = \"text-align: right;\">0.0</td><td style = \"text-align: right;\">1000.0</td><td style = \"text-align: right;\">0.01</td><td style = \"text-align: right;\">3</td><td style = \"text-align: right;\">5</td></tr><tr><td class = \"rowNumber\" style = \"font-weight: bold; text-align: right;\">6</td><td style = \"text-align: right;\">1000</td><td style = \"text-align: right;\">0.5</td><td style = \"text-align: right;\">0.1</td><td style = \"text-align: right;\">0.0125</td><td style = \"text-align: right;\">0.0</td><td style = \"text-align: right;\">1000.0</td><td style = \"text-align: right;\">0.01</td><td style = \"text-align: right;\">3</td><td style = \"text-align: right;\">5</td></tr><tr><td class = \"rowNumber\" style = \"font-weight: bold; text-align: right;\">7</td><td style = \"text-align: right;\">1000</td><td style = \"text-align: right;\">0.5</td><td style = \"text-align: right;\">0.1</td><td style = \"text-align: right;\">0.014</td><td style = \"text-align: right;\">0.0</td><td style = \"text-align: right;\">1000.0</td><td style = \"text-align: right;\">0.01</td><td style = \"text-align: right;\">3</td><td style = \"text-align: right;\">5</td></tr><tr><td class = \"rowNumber\" style = \"font-weight: bold; text-align: right;\">8</td><td style = \"text-align: right;\">1000</td><td style = \"text-align: right;\">0.5</td><td style = \"text-align: right;\">0.1</td><td style = \"text-align: right;\">0.0155</td><td style = \"text-align: right;\">0.0</td><td style = \"text-align: right;\">1000.0</td><td style = \"text-align: right;\">0.01</td><td style = \"text-align: right;\">3</td><td style = \"text-align: right;\">5</td></tr><tr><td class = \"rowNumber\" style = \"font-weight: bold; text-align: right;\">9</td><td style = \"text-align: right;\">1000</td><td style = \"text-align: right;\">0.5</td><td style = \"text-align: right;\">0.1</td><td style = \"text-align: right;\">0.017</td><td style = \"text-align: right;\">0.0</td><td style = \"text-align: right;\">1000.0</td><td style = \"text-align: right;\">0.01</td><td style = \"text-align: right;\">3</td><td style = \"text-align: right;\">5</td></tr><tr><td class = \"rowNumber\" style = \"font-weight: bold; text-align: right;\">10</td><td style = \"text-align: right;\">1000</td><td style = \"text-align: right;\">0.5</td><td style = \"text-align: right;\">0.1</td><td style = \"text-align: right;\">0.0185</td><td style = \"text-align: right;\">0.0</td><td style = \"text-align: right;\">1000.0</td><td style = \"text-align: right;\">0.01</td><td style = \"text-align: right;\">3</td><td style = \"text-align: right;\">5</td></tr><tr><td class = \"rowNumber\" style = \"font-weight: bold; text-align: right;\">11</td><td style = \"text-align: right;\">1000</td><td style = \"text-align: right;\">0.5</td><td style = \"text-align: right;\">0.1</td><td style = \"text-align: right;\">0.02</td><td style = \"text-align: right;\">0.0</td><td style = \"text-align: right;\">1000.0</td><td style = \"text-align: right;\">0.01</td><td style = \"text-align: right;\">3</td><td style = \"text-align: right;\">5</td></tr><tr><td class = \"rowNumber\" style = \"font-weight: bold; text-align: right;\">12</td><td style = \"text-align: right;\">1000</td><td style = \"text-align: right;\">0.5</td><td style = \"text-align: right;\">0.1</td><td style = \"text-align: right;\">0.021</td><td style = \"text-align: right;\">0.0</td><td style = \"text-align: right;\">1000.0</td><td style = \"text-align: right;\">0.01</td><td style = \"text-align: right;\">3</td><td style = \"text-align: right;\">5</td></tr><tr><td class = \"rowNumber\" style = \"font-weight: bold; text-align: right;\">13</td><td style = \"text-align: right;\">1000</td><td style = \"text-align: right;\">0.5</td><td style = \"text-align: right;\">0.1</td><td style = \"text-align: right;\">0.02295</td><td style = \"text-align: right;\">0.0</td><td style = \"text-align: right;\">1000.0</td><td style = \"text-align: right;\">0.01</td><td style = \"text-align: right;\">3</td><td style = \"text-align: right;\">5</td></tr><tr><td style = \"text-align: right;\">&vellip;</td><td style = \"text-align: right;\">&vellip;</td><td style = \"text-align: right;\">&vellip;</td><td style = \"text-align: right;\">&vellip;</td><td style = \"text-align: right;\">&vellip;</td><td style = \"text-align: right;\">&vellip;</td><td style = \"text-align: right;\">&vellip;</td><td style = \"text-align: right;\">&vellip;</td><td style = \"text-align: right;\">&vellip;</td><td style = \"text-align: right;\">&vellip;</td></tr><tr><td class = \"rowNumber\" style = \"font-weight: bold; text-align: right;\">21</td><td style = \"text-align: right;\">1000</td><td style = \"text-align: right;\">0.5</td><td style = \"text-align: right;\">0.1</td><td style = \"text-align: right;\">0.03855</td><td style = \"text-align: right;\">0.0</td><td style = \"text-align: right;\">1000.0</td><td style = \"text-align: right;\">0.01</td><td style = \"text-align: right;\">3</td><td style = \"text-align: right;\">5</td></tr><tr><td class = \"rowNumber\" style = \"font-weight: bold; text-align: right;\">22</td><td style = \"text-align: right;\">1000</td><td style = \"text-align: right;\">0.5</td><td style = \"text-align: right;\">0.1</td><td style = \"text-align: right;\">0.0405</td><td style = \"text-align: right;\">0.0</td><td style = \"text-align: right;\">1000.0</td><td style = \"text-align: right;\">0.01</td><td style = \"text-align: right;\">3</td><td style = \"text-align: right;\">5</td></tr><tr><td class = \"rowNumber\" style = \"font-weight: bold; text-align: right;\">23</td><td style = \"text-align: right;\">1000</td><td style = \"text-align: right;\">0.5</td><td style = \"text-align: right;\">0.1</td><td style = \"text-align: right;\">0.04245</td><td style = \"text-align: right;\">0.0</td><td style = \"text-align: right;\">1000.0</td><td style = \"text-align: right;\">0.01</td><td style = \"text-align: right;\">3</td><td style = \"text-align: right;\">5</td></tr><tr><td class = \"rowNumber\" style = \"font-weight: bold; text-align: right;\">24</td><td style = \"text-align: right;\">1000</td><td style = \"text-align: right;\">0.5</td><td style = \"text-align: right;\">0.1</td><td style = \"text-align: right;\">0.0444</td><td style = \"text-align: right;\">0.0</td><td style = \"text-align: right;\">1000.0</td><td style = \"text-align: right;\">0.01</td><td style = \"text-align: right;\">3</td><td style = \"text-align: right;\">5</td></tr><tr><td class = \"rowNumber\" style = \"font-weight: bold; text-align: right;\">25</td><td style = \"text-align: right;\">1000</td><td style = \"text-align: right;\">0.5</td><td style = \"text-align: right;\">0.1</td><td style = \"text-align: right;\">0.04635</td><td style = \"text-align: right;\">0.0</td><td style = \"text-align: right;\">1000.0</td><td style = \"text-align: right;\">0.01</td><td style = \"text-align: right;\">3</td><td style = \"text-align: right;\">5</td></tr><tr><td class = \"rowNumber\" style = \"font-weight: bold; text-align: right;\">26</td><td style = \"text-align: right;\">1000</td><td style = \"text-align: right;\">0.5</td><td style = \"text-align: right;\">0.1</td><td style = \"text-align: right;\">0.0483</td><td style = \"text-align: right;\">0.0</td><td style = \"text-align: right;\">1000.0</td><td style = \"text-align: right;\">0.01</td><td style = \"text-align: right;\">3</td><td style = \"text-align: right;\">5</td></tr><tr><td class = \"rowNumber\" style = \"font-weight: bold; text-align: right;\">27</td><td style = \"text-align: right;\">1000</td><td style = \"text-align: right;\">0.5</td><td style = \"text-align: right;\">0.1</td><td style = \"text-align: right;\">0.05025</td><td style = \"text-align: right;\">0.0</td><td style = \"text-align: right;\">1000.0</td><td style = \"text-align: right;\">0.01</td><td style = \"text-align: right;\">3</td><td style = \"text-align: right;\">5</td></tr><tr><td class = \"rowNumber\" style = \"font-weight: bold; text-align: right;\">28</td><td style = \"text-align: right;\">1000</td><td style = \"text-align: right;\">0.5</td><td style = \"text-align: right;\">0.1</td><td style = \"text-align: right;\">0.0522</td><td style = \"text-align: right;\">0.0</td><td style = \"text-align: right;\">1000.0</td><td style = \"text-align: right;\">0.01</td><td style = \"text-align: right;\">3</td><td style = \"text-align: right;\">5</td></tr><tr><td class = \"rowNumber\" style = \"font-weight: bold; text-align: right;\">29</td><td style = \"text-align: right;\">1000</td><td style = \"text-align: right;\">0.5</td><td style = \"text-align: right;\">0.1</td><td style = \"text-align: right;\">0.05415</td><td style = \"text-align: right;\">0.0</td><td style = \"text-align: right;\">1000.0</td><td style = \"text-align: right;\">0.01</td><td style = \"text-align: right;\">3</td><td style = \"text-align: right;\">5</td></tr><tr><td class = \"rowNumber\" style = \"font-weight: bold; text-align: right;\">30</td><td style = \"text-align: right;\">1000</td><td style = \"text-align: right;\">0.5</td><td style = \"text-align: right;\">0.1</td><td style = \"text-align: right;\">0.0561</td><td style = \"text-align: right;\">0.0</td><td style = \"text-align: right;\">1000.0</td><td style = \"text-align: right;\">0.01</td><td style = \"text-align: right;\">3</td><td style = \"text-align: right;\">5</td></tr><tr><td class = \"rowNumber\" style = \"font-weight: bold; text-align: right;\">31</td><td style = \"text-align: right;\">1000</td><td style = \"text-align: right;\">0.5</td><td style = \"text-align: right;\">0.1</td><td style = \"text-align: right;\">0.05805</td><td style = \"text-align: right;\">0.0</td><td style = \"text-align: right;\">1000.0</td><td style = \"text-align: right;\">0.01</td><td style = \"text-align: right;\">3</td><td style = \"text-align: right;\">5</td></tr><tr><td class = \"rowNumber\" style = \"font-weight: bold; text-align: right;\">32</td><td style = \"text-align: right;\">1000</td><td style = \"text-align: right;\">0.5</td><td style = \"text-align: right;\">0.1</td><td style = \"text-align: right;\">0.06</td><td style = \"text-align: right;\">0.0</td><td style = \"text-align: right;\">1000.0</td><td style = \"text-align: right;\">0.01</td><td style = \"text-align: right;\">3</td><td style = \"text-align: right;\">5</td></tr></tbody></table></div>"
      ],
      "text/latex": [
       "\\begin{tabular}{r|ccccccccc}\n",
       "\t& N & p & sigma & theta & tmin & tmax & Dt & it\\_brownian & it\\_network\\\\\n",
       "\t\\hline\n",
       "\t& Int64 & Float64 & Float64 & Float64 & Float64 & Float64 & Float64 & Int64 & Int64\\\\\n",
       "\t\\hline\n",
       "\t1 & 1000 & 0.5 & 0.1 & 0.005 & 0.0 & 1000.0 & 0.01 & 3 & 5 \\\\\n",
       "\t2 & 1000 & 0.5 & 0.1 & 0.0065 & 0.0 & 1000.0 & 0.01 & 3 & 5 \\\\\n",
       "\t3 & 1000 & 0.5 & 0.1 & 0.008 & 0.0 & 1000.0 & 0.01 & 3 & 5 \\\\\n",
       "\t4 & 1000 & 0.5 & 0.1 & 0.0095 & 0.0 & 1000.0 & 0.01 & 3 & 5 \\\\\n",
       "\t5 & 1000 & 0.5 & 0.1 & 0.011 & 0.0 & 1000.0 & 0.01 & 3 & 5 \\\\\n",
       "\t6 & 1000 & 0.5 & 0.1 & 0.0125 & 0.0 & 1000.0 & 0.01 & 3 & 5 \\\\\n",
       "\t7 & 1000 & 0.5 & 0.1 & 0.014 & 0.0 & 1000.0 & 0.01 & 3 & 5 \\\\\n",
       "\t8 & 1000 & 0.5 & 0.1 & 0.0155 & 0.0 & 1000.0 & 0.01 & 3 & 5 \\\\\n",
       "\t9 & 1000 & 0.5 & 0.1 & 0.017 & 0.0 & 1000.0 & 0.01 & 3 & 5 \\\\\n",
       "\t10 & 1000 & 0.5 & 0.1 & 0.0185 & 0.0 & 1000.0 & 0.01 & 3 & 5 \\\\\n",
       "\t11 & 1000 & 0.5 & 0.1 & 0.02 & 0.0 & 1000.0 & 0.01 & 3 & 5 \\\\\n",
       "\t12 & 1000 & 0.5 & 0.1 & 0.021 & 0.0 & 1000.0 & 0.01 & 3 & 5 \\\\\n",
       "\t13 & 1000 & 0.5 & 0.1 & 0.02295 & 0.0 & 1000.0 & 0.01 & 3 & 5 \\\\\n",
       "\t14 & 1000 & 0.5 & 0.1 & 0.0249 & 0.0 & 1000.0 & 0.01 & 3 & 5 \\\\\n",
       "\t15 & 1000 & 0.5 & 0.1 & 0.02685 & 0.0 & 1000.0 & 0.01 & 3 & 5 \\\\\n",
       "\t16 & 1000 & 0.5 & 0.1 & 0.0288 & 0.0 & 1000.0 & 0.01 & 3 & 5 \\\\\n",
       "\t17 & 1000 & 0.5 & 0.1 & 0.03075 & 0.0 & 1000.0 & 0.01 & 3 & 5 \\\\\n",
       "\t18 & 1000 & 0.5 & 0.1 & 0.0327 & 0.0 & 1000.0 & 0.01 & 3 & 5 \\\\\n",
       "\t19 & 1000 & 0.5 & 0.1 & 0.03465 & 0.0 & 1000.0 & 0.01 & 3 & 5 \\\\\n",
       "\t20 & 1000 & 0.5 & 0.1 & 0.0366 & 0.0 & 1000.0 & 0.01 & 3 & 5 \\\\\n",
       "\t21 & 1000 & 0.5 & 0.1 & 0.03855 & 0.0 & 1000.0 & 0.01 & 3 & 5 \\\\\n",
       "\t22 & 1000 & 0.5 & 0.1 & 0.0405 & 0.0 & 1000.0 & 0.01 & 3 & 5 \\\\\n",
       "\t23 & 1000 & 0.5 & 0.1 & 0.04245 & 0.0 & 1000.0 & 0.01 & 3 & 5 \\\\\n",
       "\t24 & 1000 & 0.5 & 0.1 & 0.0444 & 0.0 & 1000.0 & 0.01 & 3 & 5 \\\\\n",
       "\t$\\dots$ & $\\dots$ & $\\dots$ & $\\dots$ & $\\dots$ & $\\dots$ & $\\dots$ & $\\dots$ & $\\dots$ & $\\dots$ \\\\\n",
       "\\end{tabular}\n"
      ],
      "text/plain": [
       "\u001b[1m32×9 DataFrame\u001b[0m\n",
       "\u001b[1m Row \u001b[0m│\u001b[1m N     \u001b[0m\u001b[1m p       \u001b[0m\u001b[1m sigma   \u001b[0m\u001b[1m theta   \u001b[0m\u001b[1m tmin    \u001b[0m\u001b[1m tmax    \u001b[0m\u001b[1m Dt      \u001b[0m\u001b[1m it_brownia\u001b[0m ⋯\n",
       "     │\u001b[90m Int64 \u001b[0m\u001b[90m Float64 \u001b[0m\u001b[90m Float64 \u001b[0m\u001b[90m Float64 \u001b[0m\u001b[90m Float64 \u001b[0m\u001b[90m Float64 \u001b[0m\u001b[90m Float64 \u001b[0m\u001b[90m Int64     \u001b[0m ⋯\n",
       "─────┼──────────────────────────────────────────────────────────────────────────\n",
       "   1 │  1000      0.5      0.1  0.005        0.0   1000.0     0.01             ⋯\n",
       "   2 │  1000      0.5      0.1  0.0065       0.0   1000.0     0.01\n",
       "   3 │  1000      0.5      0.1  0.008        0.0   1000.0     0.01\n",
       "   4 │  1000      0.5      0.1  0.0095       0.0   1000.0     0.01\n",
       "   5 │  1000      0.5      0.1  0.011        0.0   1000.0     0.01             ⋯\n",
       "   6 │  1000      0.5      0.1  0.0125       0.0   1000.0     0.01\n",
       "   7 │  1000      0.5      0.1  0.014        0.0   1000.0     0.01\n",
       "   8 │  1000      0.5      0.1  0.0155       0.0   1000.0     0.01\n",
       "  ⋮  │   ⋮       ⋮        ⋮        ⋮        ⋮        ⋮        ⋮          ⋮     ⋱\n",
       "  26 │  1000      0.5      0.1  0.0483       0.0   1000.0     0.01             ⋯\n",
       "  27 │  1000      0.5      0.1  0.05025      0.0   1000.0     0.01\n",
       "  28 │  1000      0.5      0.1  0.0522       0.0   1000.0     0.01\n",
       "  29 │  1000      0.5      0.1  0.05415      0.0   1000.0     0.01\n",
       "  30 │  1000      0.5      0.1  0.0561       0.0   1000.0     0.01             ⋯\n",
       "  31 │  1000      0.5      0.1  0.05805      0.0   1000.0     0.01\n",
       "  32 │  1000      0.5      0.1  0.06         0.0   1000.0     0.01\n",
       "\u001b[36m                                                   2 columns and 17 rows omitted\u001b[0m"
      ]
     },
     "metadata": {},
     "output_type": "display_data"
    }
   ],
   "source": [
    "P = DataFrame(N = N, p = p, sigma = σ, theta = θ, \n",
    "                tmin = tmin, tmax = tmax, Dt = Δt,\n",
    "                it_brownian = it_brownian, it_network = it_network)"
   ]
  },
  {
   "cell_type": "code",
   "execution_count": 5,
   "metadata": {},
   "outputs": [
    {
     "data": {
      "text/plain": [
       "\"parameters.csv\""
      ]
     },
     "metadata": {},
     "output_type": "display_data"
    }
   ],
   "source": [
    "CSV.write(\"parameters.csv\",P)"
   ]
  },
  {
   "cell_type": "code",
   "execution_count": null,
   "metadata": {},
   "outputs": [],
   "source": []
  }
 ],
 "metadata": {
  "kernelspec": {
   "display_name": "Julia 1.10.0",
   "language": "julia",
   "name": "julia-1.10"
  },
  "language_info": {
   "file_extension": ".jl",
   "mimetype": "application/julia",
   "name": "julia",
   "version": "1.10.0"
  }
 },
 "nbformat": 4,
 "nbformat_minor": 2
}
