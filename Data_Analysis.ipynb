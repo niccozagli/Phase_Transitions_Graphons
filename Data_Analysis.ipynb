{
 "cells": [
  {
   "cell_type": "code",
   "execution_count": 1,
   "metadata": {},
   "outputs": [],
   "source": [
    "#### LIBRARIES AND FUNCTIONS\n",
    "using DataFrames\n",
    "using CSV\n",
    "using JLD2\n",
    "using Plots\n",
    "using StatsBase\n",
    "using LaTeXStrings"
   ]
  },
  {
   "cell_type": "code",
   "execution_count": 2,
   "metadata": {},
   "outputs": [
    {
     "data": {
      "text/plain": [
       "500"
      ]
     },
     "metadata": {},
     "output_type": "display_data"
    }
   ],
   "source": [
    "n_sim = 1:32; \n",
    "batches = [\"FirstBatch\" \"SecondBatch\" \"ThirdBatch\"]\n",
    "T = 500"
   ]
  },
  {
   "cell_type": "code",
   "execution_count": 33,
   "metadata": {},
   "outputs": [
    {
     "name": "stdout",
     "output_type": "stream",
     "text": [
      "./data/FirstBatch/data3/Data.jld2 does not exist\n",
      "./data/FirstBatch/data4/Data.jld2 does not exist\n",
      "./data/FirstBatch/data5/Data.jld2 does not exist\n"
     ]
    }
   ],
   "source": [
    "path = \"./data/FirstBatch/data1/Data.jld2\"\n",
    "X = JLD2.load(path)\n",
    "parameters = X[\"parameters\"]\n",
    "N,p,tmin,tmax,Δt,t,L,θ,σ,it_network,it_brownian = parameters\n",
    "\n",
    "θs = zeros(length(n_sim)) \n",
    "OrdPar = zeros(length(n_sim)) \n",
    "OrdPar_Min = zeros(length(n_sim))\n",
    "OrdPar_Max = zeros(length(n_sim))\n",
    "N_network = zeros(length(n_sim))\n",
    "\n",
    "for index in 1:32\n",
    "    OrdPar_batch = zeros(length(t[t.>=T]))\n",
    "    OrdPar_Min_batch = 0\n",
    "    OrdPar_Max_batch = 0\n",
    "    l_tot = 0\n",
    "    for (index_str,str) in enumerate(batches)\n",
    "        path = \"./data/\"*str*\"/data\"*string(index)*\"/Data.jld2\"\n",
    "        try \n",
    "            X = JLD2.load(path)\n",
    "            ord_par = X[\"order_parameter\"]\n",
    "            parameters = X[\"parameters\"]\n",
    "            N,p,tmin,tmax,Δt,t,L,θ,σ,it_network,it_brownian = parameters\n",
    "            \n",
    "            ord_par_asymp = ord_par[ t .>= T ] \n",
    "            OrdPar_batch .+= ord_par_asymp\n",
    "            OrdPar_Min_batch += minimum(ord_par_asymp)  \n",
    "            OrdPar_Max_batch += maximum(ord_par_asymp) \n",
    "            l_tot += 1\n",
    "            θs[index] = θ\n",
    "            \n",
    "        catch\n",
    "            println(path*\" does not exist\")\n",
    "        end\n",
    "    end\n",
    "    #OrdPar_batch ./= l_tot\n",
    "    OrdPar[index] = mean(OrdPar_batch ./ l_tot)\n",
    "    OrdPar_Min[index] = OrdPar_Min_batch ./ l_tot\n",
    "    OrdPar_Max[index] = OrdPar_Max_batch ./ l_tot\n",
    "    N_network[index] = l_tot\n",
    "end"
   ]
  },
  {
   "cell_type": "code",
   "execution_count": 35,
   "metadata": {},
   "outputs": [
    {
     "data": {
      "text/plain": [
       "\"/Users/niccolo/Desktop/Graphs/Kuramoto_ER.png\""
      ]
     },
     "metadata": {},
     "output_type": "display_data"
    }
   ],
   "source": [
    "θs_ren = θs./(σ^2/p)\n",
    "plot(θs_ren,OrdPar,color=:blue,linewidth=1.5,label=\"\",dpi=400)\n",
    "plot!(θs_ren,OrdPar_Min,color=:red,linestyle=:dash,linewidth=0.7,label=\"\")\n",
    "plot!(θs_ren,OrdPar_Max,color=:red,linestyle=:dash,linewidth=0.7,label=\"\")\n",
    "xlabel!(L\"\\theta/\\theta_c\",xguidefontsize=18)\n",
    "ylabel!(L\"|r|\",yguidefontsize=18)\n",
    "#savefig(\"Kuramoto_ER.png\")"
   ]
  },
  {
   "cell_type": "code",
   "execution_count": null,
   "metadata": {},
   "outputs": [],
   "source": []
  }
 ],
 "metadata": {
  "kernelspec": {
   "display_name": "Julia 1.10.0",
   "language": "julia",
   "name": "julia-1.10"
  },
  "language_info": {
   "file_extension": ".jl",
   "mimetype": "application/julia",
   "name": "julia",
   "version": "1.10.0"
  }
 },
 "nbformat": 4,
 "nbformat_minor": 2
}
