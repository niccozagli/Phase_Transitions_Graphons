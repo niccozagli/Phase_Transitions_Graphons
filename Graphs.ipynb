{
 "cells": [
  {
   "cell_type": "code",
   "execution_count": null,
   "metadata": {},
   "outputs": [],
   "source": [
    "#### LIBRARIES AND FUNCTIONS\n",
    "using Plots\n",
    "using Graphs#, GraphRecipes\n",
    "using LinearAlgebra\n",
    "using StatsBase\n",
    "using DataFrames\n",
    "using CSV\n",
    "using JLD2"
   ]
  },
  {
   "cell_type": "code",
   "execution_count": null,
   "metadata": {},
   "outputs": [],
   "source": [
    "function create_parameters(path,index)\n",
    "    P = DataFrame(CSV.File(\"parameters.csv\"));\n",
    "    # Parameters for the network\n",
    "    N = P[!,\"N\"][index]\n",
    "    p = P[!,\"p\"][index]\n",
    "    # Parameter of the system\n",
    "    θ = P[!,\"theta\"][index]\n",
    "    σ = P[!,\"sigma\"][index]\n",
    "    # Parameters for integration\n",
    "    tmin = P[!,\"tmin\"][index]; tmax = P[!,\"tmax\"][index]; Δt = P[!,\"Dt\"][index]\n",
    "\n",
    "    it_network = P[!,\"it_network\"][index]; it_brownian = P[!,\"it_brownian\"][index]\n",
    "\n",
    "    p_WS = P[!,\"p_WS\"][index] ; r = P[!,\"r\"][index]\n",
    "\n",
    "    t = range(start=tmin,stop=tmax,step=Δt);\n",
    "    L = length(t);\n",
    "\n",
    "    parameters = (N,p,tmin,tmax,Δt,t,L,θ,σ,it_network,it_brownian, r, p_WS) \n",
    "    return parameters\n",
    "end\n",
    "\n",
    "function create_network_ER(parameters)\n",
    "    N,p,tmin,tmax,Δt,t,L,θ,σ,it_network,it_brownian, r, p_WS = parameters;\n",
    "    G = Graphs.SimpleGraphs.erdos_renyi(N,Float32(p)) \n",
    "    A = Graphs.sparse(G);\n",
    "    return A\n",
    "end\n",
    "\n",
    "\n",
    "function create_network_small_world(parameters)\n",
    "    N,p,tmin,tmax,Δt,t,L,θ,σ,it_network,it_brownian, r, p_WS = parameters;\n",
    "    G = Graphs.SimpleGraphs.watts_strogatz(N,r,p_WS) \n",
    "    A = Graphs.sparse(G);\n",
    "    return A\n",
    "end\n",
    "\n",
    "function create_network_ring(parameters)\n",
    "    N,p,tmin,tmax,Δt,t,L,θ,σ,it_network,it_brownian, r, p_WS = parameters;\n",
    "    G = Graphs.SimpleGraphs.watts_strogatz(N,r,0) \n",
    "    A = Graphs.sparse(G);\n",
    "    return A\n",
    "end\n",
    "\n",
    "function create_initial_condition(parameters)\n",
    "    N,p,tmin,tmax,Δt,t,L,θ,σ,it_network,it_brownian, r, p_WS = parameters\n",
    "    x0 = mod.( 2*π*rand(N) , 2*π);\n",
    "    return x0\n",
    "end\n",
    "\n",
    "function coupling_drift(x)\n",
    "    return sin(x)\n",
    "end\n",
    "\n",
    "function order_param(x)\n",
    "    N = size(x)\n",
    "    r = mean( exp.(1im*x) )\n",
    "    return abs(r)\n",
    "end\n",
    "\n",
    "function integrate_N_particle_system(parameters,x0,A)\n",
    "    N,p,tmin,tmax,Δt,t,L,θ,σ,it_network,it_brownian, r, p_WS = parameters\n",
    "    xnew = zeros(N) ; xold = copy(x0); r = zeros(L)\n",
    "    for tt=1:L\n",
    "        for i=1:N\n",
    "            coupl = coupling_drift.(xold[i] .- xold)\n",
    "            xnew[i] = mod( xold[i] - θ/N * dot(A[:,i],coupl) + σ * randn() , 2*π)\n",
    "        end\n",
    "        r[tt] = order_param(xnew)\n",
    "        xold = copy(xnew);\n",
    "    end\n",
    "    return r\n",
    "end"
   ]
  },
  {
   "cell_type": "code",
   "execution_count": null,
   "metadata": {},
   "outputs": [],
   "source": [
    "# Hyper-parameters\n",
    "parameters = create_parameters(\"parameters.csv\",1);\n",
    "iteration_network = parameters[10]\n",
    "iteration_brownian = parameters[11]\n",
    "tot = iteration_brownian*iteration_network"
   ]
  },
  {
   "cell_type": "code",
   "execution_count": null,
   "metadata": {},
   "outputs": [],
   "source": [
    "parameters = create_parameters(\"parameters.csv\",1)#path,index);\n",
    "r = zeros(tot,length(parameters[6]))\n",
    "\n",
    "index = 1\n",
    "for itNet in 1:iteration_network\n",
    "    A = create_network_ring(parameters);\n",
    "    for itBrown in 1:iteration_brownian\n",
    "        x0 = create_initial_condition(parameters);\n",
    "        r[index,:] = integrate_N_particle_system(parameters,x0,A)\n",
    "        index += 1\n",
    "    end\n",
    "end"
   ]
  },
  {
   "cell_type": "code",
   "execution_count": null,
   "metadata": {},
   "outputs": [],
   "source": [
    "JLD2.jldsave(\"Data.jld2\"; order_parameter = r, parameters)"
   ]
  }
 ],
 "metadata": {
  "kernelspec": {
   "display_name": "Julia 1.10.0",
   "language": "julia",
   "name": "julia-1.10"
  },
  "language_info": {
   "file_extension": ".jl",
   "mimetype": "application/julia",
   "name": "julia",
   "version": "1.10.0"
  }
 },
 "nbformat": 4,
 "nbformat_minor": 2
}
